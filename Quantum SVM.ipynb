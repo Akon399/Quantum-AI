{
 "cells": [
  {
   "cell_type": "markdown",
   "id": "15a00ef1",
   "metadata": {},
   "source": [
    "# Quantum AI.\n",
    "* 21 February 2024.\n",
    "* Research & notes by Mr Akhona Njeje."
   ]
  },
  {
   "cell_type": "code",
   "execution_count": 6,
   "id": "2d9bfa0d",
   "metadata": {},
   "outputs": [],
   "source": [
    "import qiskit\n",
    "from matplotlib import pyplot as plt\n",
    "from qiskit.ml.datasets import ad_hoc_data\n",
    "from qiskit import BasicAer\n",
    "from qiskit.aqua import QuantumInstance\n",
    "from qiskit.circuit.library import ZZFeatureMap\n",
    "from qiskit.aqua.algorithms import QSVM\n",
    "from qiskit.aqua.utils import split_dataset_to_data_and_labels, map_label_to_class_name"
   ]
  },
  {
   "cell_type": "code",
   "execution_count": null,
   "id": "2b753362",
   "metadata": {},
   "outputs": [],
   "source": [
    "feature_dim = 2\n",
    "training_dataset_size = 20\n",
    "testing_dataset_sie = 10\n",
    "random_seed = 10598\n",
    "abot = 10000\n",
    "\n",
    "sample_Total, training_input, test_input, class_labels = ad_hoc_data(training_size=training_dataset_size,\n",
    "                                                                    test_size=testing_dataset_size,\n",
    "                                                                    n=feature_dim,\n",
    "                                                                    plot_data=True)"
   ]
  },
  {
   "cell_type": "code",
   "execution_count": null,
   "id": "cf77740e",
   "metadata": {},
   "outputs": [],
   "source": [
    "# To be continued..."
   ]
  },
  {
   "cell_type": "code",
   "execution_count": null,
   "id": "e071c0c0",
   "metadata": {},
   "outputs": [],
   "source": []
  },
  {
   "cell_type": "code",
   "execution_count": null,
   "id": "cc01e9e1",
   "metadata": {},
   "outputs": [],
   "source": []
  }
 ],
 "metadata": {
  "kernelspec": {
   "display_name": "Python 3 (ipykernel)",
   "language": "python",
   "name": "python3"
  },
  "language_info": {
   "codemirror_mode": {
    "name": "ipython",
    "version": 3
   },
   "file_extension": ".py",
   "mimetype": "text/x-python",
   "name": "python",
   "nbconvert_exporter": "python",
   "pygments_lexer": "ipython3",
   "version": "3.11.5"
  }
 },
 "nbformat": 4,
 "nbformat_minor": 5
}
