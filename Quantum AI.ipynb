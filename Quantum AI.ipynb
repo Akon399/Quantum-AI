{
 "cells": [
  {
   "cell_type": "code",
   "execution_count": null,
   "id": "8d12f03b",
   "metadata": {},
   "outputs": [],
   "source": [
    "# Lecture by IBM Q#.\n",
    "# Notes & Solution by Akhona Njeje.\n",
    "# Date : 4 Jan 2024.\n",
    "# Topic : Quantumn AI.\n",
    "\n",
    "# Theory :\n",
    "# We are combining two topics, Machine Learning(AI & Software based) & Quantum Computers(Hardware based).\n",
    "# Lets explore a QSVM algorithm(Quantum Support Vector Machine). \n",
    "# How does SVM algorithm work? SVM separates data points into two groups.\n",
    "# The line that splits the dataset into two, is called a Hyper plane.\n",
    "\n",
    "import qiskit\n",
    "from matplotlib import pyplot as plt\n",
    "import numpy as np\n",
    "from qiskit.ml.datasets import ad_hoc_data"
   ]
  }
 ],
 "metadata": {
  "kernelspec": {
   "display_name": "Python 3 (ipykernel)",
   "language": "python",
   "name": "python3"
  },
  "language_info": {
   "codemirror_mode": {
    "name": "ipython",
    "version": 3
   },
   "file_extension": ".py",
   "mimetype": "text/x-python",
   "name": "python",
   "nbconvert_exporter": "python",
   "pygments_lexer": "ipython3",
   "version": "3.11.5"
  }
 },
 "nbformat": 4,
 "nbformat_minor": 5
}
